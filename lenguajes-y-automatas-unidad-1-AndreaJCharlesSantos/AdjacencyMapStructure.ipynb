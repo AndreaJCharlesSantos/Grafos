{
 "cells": [
  {
   "cell_type": "markdown",
   "id": "0654318a-4349-4a12-a404-192061f69e8a",
   "metadata": {},
   "source": [
    "# Adjacency Map Structure - Estructura de Mapa (diccionario) de Adyacencia\n",
    "\n",
    "Realice lo siguiente:\n",
    "  * Programe la representación de grafos mediante un la **Estructura de Mapa de Adyacencia**.\n",
    "  * Mediante networkx muestre el resultado gráfico del gráfo."
   ]
  },
  {
   "cell_type": "code",
   "execution_count": 1,
   "id": "9951b289",
   "metadata": {},
   "outputs": [],
   "source": [
    "import networkx as nx\n",
    "import matplotlib.pyplot as plt"
   ]
  },
  {
   "cell_type": "markdown",
   "id": "d82dec8d",
   "metadata": {},
   "source": [
    "# Métodos"
   ]
  },
  {
   "cell_type": "code",
   "execution_count": 8,
   "id": "0015a653",
   "metadata": {},
   "outputs": [],
   "source": [
    "def GetGraph(adjlist):\n",
    "    Grafo = nx.Graph()\n",
    "    for k,v in adjlist.items():\n",
    "        Grafo.add_node(k)\n",
    "        for i in v:\n",
    "            Grafo.add_edge(k, i)\n",
    "    print(\"Nodes from G:\", list(Grafo.nodes))\n",
    "    print(\"Edges from G:\", list(Grafo.edges))\n",
    "    nx.draw(Grafo, with_labels=True, font_weight='bold', node_size=1500, node_color='pink', font_size=20)"
   ]
  },
  {
   "cell_type": "raw",
   "id": "589539f9",
   "metadata": {},
   "source": [
    "# Creamos el diccionario"
   ]
  },
  {
   "cell_type": "code",
   "execution_count": 9,
   "id": "e82363e2",
   "metadata": {},
   "outputs": [],
   "source": [
    "adjlist = {}"
   ]
  },
  {
   "cell_type": "markdown",
   "id": "328e92bc",
   "metadata": {},
   "source": [
    "# Agregamos datos"
   ]
  },
  {
   "cell_type": "code",
   "execution_count": 10,
   "id": "6dcbb18f",
   "metadata": {},
   "outputs": [
    {
     "name": "stdout",
     "output_type": "stream",
     "text": [
      "Nodes from G: ['U', 'E', 'G', 'V', 'F', 'W', 'H', 'Z']\n",
      "Edges from G: [('U', 'E'), ('U', 'G'), ('E', 'V'), ('G', 'W'), ('V', 'F'), ('F', 'W'), ('W', 'H'), ('H', 'Z')]\n"
     ]
    },
    {
     "data": {
      "image/png": "[encoded data removed]",
      "text/plain": [
       "<Figure size 432x288 with 1 Axes>"
      ]
     },
     "metadata": {},
     "output_type": "display_data"
    }
   ],
   "source": [
    "adjlist = { \n",
    "    \"U\":[\"E\",\"G\"],\n",
    "    \"V\":[\"E\",\"F\"],\n",
    "    \"W\":[\"F\",\"G\",\"H\"],\n",
    "    \"Z\":[\"H\"]}\n",
    "GetGraph(adjlist)\n",
    "      \n",
    "#print(Grafo)\n"
   ]
  }
 ],
 "metadata": {
  "kernelspec": {
   "display_name": "Python 3 (ipykernel)",
   "language": "python",
   "name": "python3"
  },
  "language_info": {
   "codemirror_mode": {
    "name": "ipython",
    "version": 3
   },
   "file_extension": ".py",
   "mimetype": "text/x-python",
   "name": "python",
   "nbconvert_exporter": "python",
   "pygments_lexer": "ipython3",
   "version": "3.9.7"
  }
 },
 "nbformat": 4,
 "nbformat_minor": 5
}
