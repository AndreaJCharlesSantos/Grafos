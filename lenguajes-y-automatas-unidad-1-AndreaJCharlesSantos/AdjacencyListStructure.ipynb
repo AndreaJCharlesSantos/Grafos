{
 "cells": [
  {
   "cell_type": "markdown",
   "id": "e67c11f4-f13a-4e5b-83c5-548c38f03e81",
   "metadata": {},
   "source": [
    "# Adjacency List Structure - Estructura de Lista de Adyacencia\n",
    "\n",
    "Realice lo siguiente:\n",
    "  * Programe la representación de grafos mediante un la **Estructura de Lista de Adyacencia**.\n",
    "  * Mediante networkx muestre el resultado gráfico del gráfo."
   ]
  },
  {
   "cell_type": "code",
   "execution_count": 1,
   "id": "6249e88b-9f8e-4b5a-bd76-b6f5e3ae6fac",
   "metadata": {},
   "outputs": [],
   "source": [
    "import networkx as nx\n",
    "import matplotlib.pyplot as plt"
   ]
  },
  {
   "cell_type": "markdown",
   "id": "afbb45f7",
   "metadata": {},
   "source": [
    "# Métodos"
   ]
  },
  {
   "cell_type": "code",
   "execution_count": 6,
   "id": "8bf86982",
   "metadata": {},
   "outputs": [],
   "source": [
    "def GetGraph(adjlist):\n",
    "    Grafo = nx.Graph()\n",
    "    for k,v in adjlist.items():\n",
    "        Grafo.add_node(k)\n",
    "        for i in v:\n",
    "            Grafo.add_edge(k, i)\n",
    "    print(\"Nodes from G:\", list(Grafo.nodes))\n",
    "    print(\"Edges from G:\", list(Grafo.edges))\n",
    "    nx.draw(Grafo, with_labels=True, font_weight='bold', node_size=1500, node_color='pink', font_size=20)"
   ]
  },
  {
   "cell_type": "markdown",
   "id": "02c4ffaf",
   "metadata": {},
   "source": [
    "# Creamos un diccionario"
   ]
  },
  {
   "cell_type": "code",
   "execution_count": 7,
   "id": "0fa426f9",
   "metadata": {},
   "outputs": [],
   "source": [
    "adjlist = {}"
   ]
  },
  {
   "cell_type": "markdown",
   "id": "44b0e51b",
   "metadata": {},
   "source": [
    "# Agreamos datos dentro del diccionario"
   ]
  },
  {
   "cell_type": "code",
   "execution_count": 8,
   "id": "104b58c2",
   "metadata": {},
   "outputs": [
    {
     "name": "stdout",
     "output_type": "stream",
     "text": [
      "Nodes from G: ['U', 'E', 'G', 'V', 'F', 'W', 'H', 'Z']\n",
      "Edges from G: [('U', 'E'), ('U', 'G'), ('E', 'V'), ('G', 'W'), ('V', 'F'), ('F', 'W'), ('W', 'H'), ('H', 'Z')]\n"
     ]
    },
    {
     "data": {
      "image/png": "[encoded data removed]",
      "text/plain": [
       "<Figure size 432x288 with 1 Axes>"
      ]
     },
     "metadata": {},
     "output_type": "display_data"
    }
   ],
   "source": [
    "adjlist = { \n",
    "    \"U\":[\"E\",\"G\"],\n",
    "    \"V\":[\"E\",\"F\"],\n",
    "    \"W\":[\"F\",\"G\",\"H\"],\n",
    "    \"Z\":[\"H\"]}\n",
    "GetGraph(adjlist)\n",
    "      \n",
    "#print(Grafo)\n"
   ]
  }
 ],
 "metadata": {
  "kernelspec": {
   "display_name": "Python 3 (ipykernel)",
   "language": "python",
   "name": "python3"
  },
  "language_info": {
   "codemirror_mode": {
    "name": "ipython",
    "version": 3
   },
   "file_extension": ".py",
   "mimetype": "text/x-python",
   "name": "python",
   "nbconvert_exporter": "python",
   "pygments_lexer": "ipython3",
   "version": "3.9.7"
  }
 },
 "nbformat": 4,
 "nbformat_minor": 5
}
