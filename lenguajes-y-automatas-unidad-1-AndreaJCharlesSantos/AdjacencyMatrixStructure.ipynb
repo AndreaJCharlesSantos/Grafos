{
 "cells": [
  {
   "cell_type": "markdown",
   "id": "4a0d35b9-d5e4-48b7-b422-dc937e08fc15",
   "metadata": {},
   "source": [
    "# Adjacency Matrix Structure - Estructura de Matriz de Adyacencia\n",
    "\n",
    "Realice lo siguiente:\n",
    "  * Programe la representación de grafos mediante un la **Estructura de Matriz de Adyacencia**.\n",
    "  * Mediante networkx muestre el resultado gráfico del gráfo."
   ]
  },
  {
   "cell_type": "markdown",
   "id": "95bd85b6",
   "metadata": {},
   "source": [
    "# Librerías"
   ]
  },
  {
   "cell_type": "code",
   "execution_count": 50,
   "id": "a876e405",
   "metadata": {},
   "outputs": [],
   "source": [
    "import numpy as np\n",
    "import pandas as pd\n",
    "import networkx as nx\n",
    "    \n",
    "def Edge(adj_matrix):\n",
    "    G = nx.Graph()\n",
    "    for i in range(adj_matrix.shape[0]):\n",
    "        col_label = adj_matrix.columns[i]\n",
    "        for j in range(adj_matrix.shape[1]):\n",
    "            row_label = adj_matrix.index[j]\n",
    "            node = adj_matrix.iloc[i,j]\n",
    "            if node == 1:\n",
    "                G.add_edge(col_label,row_label)\n",
    "    return G\n",
    "\n",
    "def ImprimirGrafo(G):\n",
    "    nx.draw(G, with_labels=True, font_weight='bold', node_size=1500, node_color='pink', font_size=20)"
   ]
  },
  {
   "cell_type": "code",
   "execution_count": 51,
   "id": "322c6e8f",
   "metadata": {},
   "outputs": [
    {
     "name": "stdout",
     "output_type": "stream",
     "text": [
      "1  A  B  C  D  E\n",
      "0               \n",
      "A  1  1  1  0  0\n",
      "B  1  0  1  0  1\n",
      "C  1  1  0  1  0\n",
      "D  0  0  1  0  1\n",
      "E  0  1  0  1  0\n"
     ]
    },
    {
     "data": {
      "image/png": "[encoded data removed]",
      "text/plain": [
       "<Figure size 432x288 with 1 Axes>"
      ]
     },
     "metadata": {},
     "output_type": "display_data"
    }
   ],
   "source": [
    "g = {\n",
    "'A': ['A', 'B', 'C'], \n",
    "'B': ['A', 'C', 'E'], \n",
    "'C': ['A', 'B', 'D'],\n",
    "'D': ['C','E'],\n",
    "'E': ['B','D']\n",
    "}\n",
    "\n",
    "node_list = ['A', 'B', 'C', 'D', 'E']\n",
    "Grafo = nx.Graph()\n",
    "Grafo.add_nodes_from(node_list)\n",
    "g = {k: [v.strip() for v in vs] for k, vs in g.items()}\n",
    "edges = [(a, b) for a, bs in g.items() for b in bs]\n",
    "df = pd.DataFrame(edges)\n",
    "adj_matrix = pd.crosstab(df[0], df[1])\n",
    "Grafo = Edge(adj_matrix)\n",
    "\n",
    "ImprimirGrafo(Grafo)\n",
    "print(adj_matrix)"
   ]
  },
  {
   "cell_type": "code",
   "execution_count": null,
   "id": "df1abc5a",
   "metadata": {},
   "outputs": [],
   "source": []
  }
 ],
 "metadata": {
  "kernelspec": {
   "display_name": "Python 3 (ipykernel)",
   "language": "python",
   "name": "python3"
  },
  "language_info": {
   "codemirror_mode": {
    "name": "ipython",
    "version": 3
   },
   "file_extension": ".py",
   "mimetype": "text/x-python",
   "name": "python",
   "nbconvert_exporter": "python",
   "pygments_lexer": "ipython3",
   "version": "3.9.7"
  }
 },
 "nbformat": 4,
 "nbformat_minor": 5
}
