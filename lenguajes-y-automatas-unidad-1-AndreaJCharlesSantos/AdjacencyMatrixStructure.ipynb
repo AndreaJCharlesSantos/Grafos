{
 "cells": [
  {
   "cell_type": "markdown",
   "id": "4a0d35b9-d5e4-48b7-b422-dc937e08fc15",
   "metadata": {},
   "source": [
    "# Adjacency Matrix Structure - Estructura de Matriz de Adyacencia\n",
    "\n",
    "Realice lo siguiente:\n",
    "  * Programe la representación de grafos mediante un la **Estructura de Matriz de Adyacencia**.\n",
    "  * Mediante networkx muestre el resultado gráfico del gráfo."
   ]
  },
  {
   "cell_type": "code",
   "execution_count": 21,
   "id": "322c6e8f",
   "metadata": {},
   "outputs": [
    {
     "name": "stdout",
     "output_type": "stream",
     "text": [
      "[[ 0 15  0  7 10  0]\n",
      " [15  0  9 11  0  9]\n",
      " [ 0  9  0  0 12  7]\n",
      " [ 7 11  0  0  8 14]\n",
      " [10  0 12  8  0  8]\n",
      " [ 0  9  7 14  8  0]]\n"
     ]
    }
   ],
   "source": [
    "import numpy\n",
    "\n",
    "def weighted_adjmatrix(adjlist, nodes):\n",
    "    '''Returns a (weighted) adjacency matrix as a NumPy array.'''\n",
    "    matrix = []\n",
    "    for node in nodes:\n",
    "        weights = {endnode:int(weight)\n",
    "                   for w in adjlist.get(node, {})\n",
    "                   for endnode, weight in w.items()}\n",
    "        matrix.append([weights.get(endnode, 0) for endnode in nodes])\n",
    "    matrix = numpy.array(matrix)\n",
    "    return matrix + matrix.transpose()\n",
    "\n",
    "graph = {'1': [{'2':'15'}, {'4':'7'}, {'5':'10'}],\n",
    "    '2': [{'3':'9'}, {'4':'11'}, {'6':'9'}],\n",
    "    '3': [{'5':'12'}, {'6':'7'}],\n",
    "    '4': [{'5':'8'}, {'6':'14'}],\n",
    "    '5': [{'6':'8'}]}\n",
    "a = weighted_adjmatrix(graph,nodes=list('123456'))\n",
    "print(a)"
   ]
  }
 ],
 "metadata": {
  "kernelspec": {
   "display_name": "Python 3 (ipykernel)",
   "language": "python",
   "name": "python3"
  },
  "language_info": {
   "codemirror_mode": {
    "name": "ipython",
    "version": 3
   },
   "file_extension": ".py",
   "mimetype": "text/x-python",
   "name": "python",
   "nbconvert_exporter": "python",
   "pygments_lexer": "ipython3",
   "version": "3.9.7"
  }
 },
 "nbformat": 4,
 "nbformat_minor": 5
}
